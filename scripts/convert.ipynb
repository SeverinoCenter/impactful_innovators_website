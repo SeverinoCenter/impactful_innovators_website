{
 "cells": [
  {
   "cell_type": "markdown",
   "metadata": {},
   "source": [
    "# Jupyter Class Helper\n",
    "---\n",
    "These files are used to configure and organize the website's contents."
   ]
  },
  {
   "cell_type": "code",
   "execution_count": 1,
   "metadata": {},
   "outputs": [],
   "source": [
    "#%load_ext autoreload\n",
    "#%autoreload 2\n",
    "#%matplotlib inline\n"
   ]
  },
  {
   "cell_type": "code",
   "execution_count": 2,
   "metadata": {},
   "outputs": [],
   "source": [
    "# Always run this before any of the following cells\n",
    "import pandas as pd\n",
    "import numpy as np\n",
    "import csv\n",
    "import logging\n",
    "import subprocess\n",
    "import yaml\n",
    "import builder as bd\n",
    "from pathlib import Path\n",
    "base_path=Path('..')\n",
    "config_path = base_path / 'config'\n",
    "cf=bd.load_yaml_file(config_path / 'config.yml')\n",
    "excel_file= config_path / cf['excel_file']\n",
    "class_path= base_path / cf['class']\n",
    "content_path = class_path / 'content'\n",
    "\n"
   ]
  },
  {
   "cell_type": "code",
   "execution_count": 3,
   "metadata": {},
   "outputs": [],
   "source": [
    "# These load configuration from the excel files \n",
    "config = bd.load_yaml_file(class_path / '_config.yml') # Load the file.\n",
    "toc = bd.load_yaml_file(class_path / '_toc.yml') # Load the file.\n",
    "config_xl= pd.read_excel(excel_file, sheet_name = '_config_yml', header=None, index_col=None)\n",
    "schedule= pd.read_excel(excel_file, sheet_name = 'Schedule',  index_col=None)\n",
    "content={}\n",
    "content['Before Class']= pd.read_excel(excel_file, sheet_name = 'Before',  index_col=None)\n",
    "content['In Class']= pd.read_excel(excel_file, sheet_name = 'During',  index_col=None)\n",
    "content['Assignment']= pd.read_excel(excel_file, sheet_name = 'Assignments',  index_col=None)\n"
   ]
  },
  {
   "cell_type": "code",
   "execution_count": 4,
   "metadata": {},
   "outputs": [],
   "source": [
    "#Create the syllabus link.\n",
    "#The second value of the index postion of the syllabus on the before class content.\n",
    "#bd.create_syllabus(content['Before Class'],0,cf['syllabus_message'],content_path / 'syllabus.md', config['repository']['url'])"
   ]
  },
  {
   "cell_type": "code",
   "execution_count": 5,
   "metadata": {},
   "outputs": [],
   "source": [
    "#Fix in case individual tries to publish where session is NA. This isn't allowed. \n",
    "schedule.loc[schedule['Session'].isna(),'Publish']=0. "
   ]
  },
  {
   "cell_type": "code",
   "execution_count": 6,
   "metadata": {},
   "outputs": [],
   "source": [
    "#Generate Links from the schedule to the sessions and within the other tables. \n",
    "schedule.loc[schedule['Publish']==1,'Location']=schedule.loc[schedule['Publish']==1,'Session'].apply(lambda x: '../sessions/session'+str(int(x)))\n",
    "schedule.loc[schedule['Publish']==1,'Type']='Markdown'"
   ]
  },
  {
   "cell_type": "code",
   "execution_count": 7,
   "metadata": {},
   "outputs": [
    {
     "data": {
      "text/html": [
       "<div>\n",
       "<style scoped>\n",
       "    .dataframe tbody tr th:only-of-type {\n",
       "        vertical-align: middle;\n",
       "    }\n",
       "\n",
       "    .dataframe tbody tr th {\n",
       "        vertical-align: top;\n",
       "    }\n",
       "\n",
       "    .dataframe thead th {\n",
       "        text-align: right;\n",
       "    }\n",
       "</style>\n",
       "<table border=\"1\" class=\"dataframe\">\n",
       "  <thead>\n",
       "    <tr style=\"text-align: right;\">\n",
       "      <th></th>\n",
       "      <th>Week</th>\n",
       "      <th>Session</th>\n",
       "      <th>Date</th>\n",
       "      <th>Day</th>\n",
       "      <th>Topic</th>\n",
       "      <th>Summary</th>\n",
       "      <th>Publish</th>\n",
       "      <th>Location</th>\n",
       "      <th>Type</th>\n",
       "    </tr>\n",
       "  </thead>\n",
       "  <tbody>\n",
       "    <tr>\n",
       "      <th>0</th>\n",
       "      <td>1</td>\n",
       "      <td>1</td>\n",
       "      <td>2020-09-02</td>\n",
       "      <td>Wed</td>\n",
       "      <td>Brent Solina '12 (Founder and CTO, MICROrganic...</td>\n",
       "      <td>As a biochem/biophysics major at RPI, Brent So...</td>\n",
       "      <td>1.0</td>\n",
       "      <td>../sessions/session1</td>\n",
       "      <td>Markdown</td>\n",
       "    </tr>\n",
       "    <tr>\n",
       "      <th>1</th>\n",
       "      <td>2</td>\n",
       "      <td>2</td>\n",
       "      <td>2020-09-09</td>\n",
       "      <td>Wed</td>\n",
       "      <td>John Haller '86 (VP Technology, Sports Illustr...</td>\n",
       "      <td>NaN</td>\n",
       "      <td>1.0</td>\n",
       "      <td>../sessions/session2</td>\n",
       "      <td>Markdown</td>\n",
       "    </tr>\n",
       "    <tr>\n",
       "      <th>2</th>\n",
       "      <td>3</td>\n",
       "      <td>3</td>\n",
       "      <td>2020-09-16</td>\n",
       "      <td>Wed</td>\n",
       "      <td>William Fosnight '92 (Co-Founder and Chief Dev...</td>\n",
       "      <td>Where does an engineer go after holding the hi...</td>\n",
       "      <td>1.0</td>\n",
       "      <td>../sessions/session3</td>\n",
       "      <td>Markdown</td>\n",
       "    </tr>\n",
       "    <tr>\n",
       "      <th>3</th>\n",
       "      <td>4</td>\n",
       "      <td>4</td>\n",
       "      <td>2020-09-23</td>\n",
       "      <td>Wed</td>\n",
       "      <td>Dr. Patrice Milos-Spalding '82 (Co-Founder, Pr...</td>\n",
       "      <td>Doctors diagnose diseases and treat patients d...</td>\n",
       "      <td>1.0</td>\n",
       "      <td>../sessions/session4</td>\n",
       "      <td>Markdown</td>\n",
       "    </tr>\n",
       "    <tr>\n",
       "      <th>4</th>\n",
       "      <td>5</td>\n",
       "      <td>5</td>\n",
       "      <td>2020-09-30</td>\n",
       "      <td>Wed</td>\n",
       "      <td>Dwaine Alleyne '04 (Co-Founder and Partner, En...</td>\n",
       "      <td>When a scandal within the industry you are bui...</td>\n",
       "      <td>1.0</td>\n",
       "      <td>../sessions/session5</td>\n",
       "      <td>Markdown</td>\n",
       "    </tr>\n",
       "    <tr>\n",
       "      <th>5</th>\n",
       "      <td>6</td>\n",
       "      <td>6</td>\n",
       "      <td>2020-10-07</td>\n",
       "      <td>Wed</td>\n",
       "      <td>Jeff Stewart '91 (Chairman and Co-Founder, Len...</td>\n",
       "      <td>What happens when the platform needed to make ...</td>\n",
       "      <td>1.0</td>\n",
       "      <td>../sessions/session6</td>\n",
       "      <td>Markdown</td>\n",
       "    </tr>\n",
       "    <tr>\n",
       "      <th>6</th>\n",
       "      <td>7</td>\n",
       "      <td>7</td>\n",
       "      <td>2020-10-14</td>\n",
       "      <td>Wed</td>\n",
       "      <td>Eben Bayer '07 (Co-Founder and CEO, Ecovative ...</td>\n",
       "      <td>When you’re college professor always said “don...</td>\n",
       "      <td>1.0</td>\n",
       "      <td>../sessions/session7</td>\n",
       "      <td>Markdown</td>\n",
       "    </tr>\n",
       "    <tr>\n",
       "      <th>7</th>\n",
       "      <td>8</td>\n",
       "      <td>8</td>\n",
       "      <td>2020-10-21</td>\n",
       "      <td>Wed</td>\n",
       "      <td>Tobi Saulnier '84 (Founder and CEO, 1st Playab...</td>\n",
       "      <td>With 3 degrees in electrical engineering from ...</td>\n",
       "      <td>1.0</td>\n",
       "      <td>../sessions/session8</td>\n",
       "      <td>Markdown</td>\n",
       "    </tr>\n",
       "    <tr>\n",
       "      <th>8</th>\n",
       "      <td>9</td>\n",
       "      <td>9</td>\n",
       "      <td>2020-10-28</td>\n",
       "      <td>Wed</td>\n",
       "      <td>Vikram Agrawal (President &amp; CEO, Levrx Technol...</td>\n",
       "      <td>President &amp; CEO, Levrx Technology; Co-CEO, Agr...</td>\n",
       "      <td>1.0</td>\n",
       "      <td>../sessions/session9</td>\n",
       "      <td>Markdown</td>\n",
       "    </tr>\n",
       "    <tr>\n",
       "      <th>9</th>\n",
       "      <td>10</td>\n",
       "      <td>10</td>\n",
       "      <td>2020-11-04</td>\n",
       "      <td>Wed</td>\n",
       "      <td>TBD</td>\n",
       "      <td>TBD</td>\n",
       "      <td>0.0</td>\n",
       "      <td>NaN</td>\n",
       "      <td>NaN</td>\n",
       "    </tr>\n",
       "    <tr>\n",
       "      <th>10</th>\n",
       "      <td>11</td>\n",
       "      <td>11</td>\n",
       "      <td>2020-11-11</td>\n",
       "      <td>Wed</td>\n",
       "      <td>TBD</td>\n",
       "      <td>TBD</td>\n",
       "      <td>0.0</td>\n",
       "      <td>NaN</td>\n",
       "      <td>NaN</td>\n",
       "    </tr>\n",
       "    <tr>\n",
       "      <th>11</th>\n",
       "      <td>12</td>\n",
       "      <td>12</td>\n",
       "      <td>2020-11-18</td>\n",
       "      <td>Wed</td>\n",
       "      <td>TBD</td>\n",
       "      <td>TBD</td>\n",
       "      <td>0.0</td>\n",
       "      <td>NaN</td>\n",
       "      <td>NaN</td>\n",
       "    </tr>\n",
       "    <tr>\n",
       "      <th>12</th>\n",
       "      <td>13</td>\n",
       "      <td>13</td>\n",
       "      <td>2020-11-25</td>\n",
       "      <td>Wed</td>\n",
       "      <td>TBD</td>\n",
       "      <td>TBD</td>\n",
       "      <td>0.0</td>\n",
       "      <td>NaN</td>\n",
       "      <td>NaN</td>\n",
       "    </tr>\n",
       "    <tr>\n",
       "      <th>13</th>\n",
       "      <td>14</td>\n",
       "      <td>14</td>\n",
       "      <td>2020-12-02</td>\n",
       "      <td>Wed</td>\n",
       "      <td>TBD</td>\n",
       "      <td>TBD</td>\n",
       "      <td>0.0</td>\n",
       "      <td>NaN</td>\n",
       "      <td>NaN</td>\n",
       "    </tr>\n",
       "    <tr>\n",
       "      <th>14</th>\n",
       "      <td>15</td>\n",
       "      <td>15</td>\n",
       "      <td>2020-12-09</td>\n",
       "      <td>Wed</td>\n",
       "      <td>TBD</td>\n",
       "      <td>TBD</td>\n",
       "      <td>0.0</td>\n",
       "      <td>NaN</td>\n",
       "      <td>NaN</td>\n",
       "    </tr>\n",
       "  </tbody>\n",
       "</table>\n",
       "</div>"
      ],
      "text/plain": [
       "    Week  Session       Date  Day  \\\n",
       "0      1        1 2020-09-02  Wed   \n",
       "1      2        2 2020-09-09  Wed   \n",
       "2      3        3 2020-09-16  Wed   \n",
       "3      4        4 2020-09-23  Wed   \n",
       "4      5        5 2020-09-30  Wed   \n",
       "5      6        6 2020-10-07  Wed   \n",
       "6      7        7 2020-10-14  Wed   \n",
       "7      8        8 2020-10-21  Wed   \n",
       "8      9        9 2020-10-28  Wed   \n",
       "9     10       10 2020-11-04  Wed   \n",
       "10    11       11 2020-11-11  Wed   \n",
       "11    12       12 2020-11-18  Wed   \n",
       "12    13       13 2020-11-25  Wed   \n",
       "13    14       14 2020-12-02  Wed   \n",
       "14    15       15 2020-12-09  Wed   \n",
       "\n",
       "                                                Topic  \\\n",
       "0   Brent Solina '12 (Founder and CTO, MICROrganic...   \n",
       "1   John Haller '86 (VP Technology, Sports Illustr...   \n",
       "2   William Fosnight '92 (Co-Founder and Chief Dev...   \n",
       "3   Dr. Patrice Milos-Spalding '82 (Co-Founder, Pr...   \n",
       "4   Dwaine Alleyne '04 (Co-Founder and Partner, En...   \n",
       "5   Jeff Stewart '91 (Chairman and Co-Founder, Len...   \n",
       "6   Eben Bayer '07 (Co-Founder and CEO, Ecovative ...   \n",
       "7   Tobi Saulnier '84 (Founder and CEO, 1st Playab...   \n",
       "8   Vikram Agrawal (President & CEO, Levrx Technol...   \n",
       "9                                                 TBD   \n",
       "10                                                TBD   \n",
       "11                                                TBD   \n",
       "12                                                TBD   \n",
       "13                                                TBD   \n",
       "14                                                TBD   \n",
       "\n",
       "                                              Summary  Publish  \\\n",
       "0   As a biochem/biophysics major at RPI, Brent So...      1.0   \n",
       "1                                                 NaN      1.0   \n",
       "2   Where does an engineer go after holding the hi...      1.0   \n",
       "3   Doctors diagnose diseases and treat patients d...      1.0   \n",
       "4   When a scandal within the industry you are bui...      1.0   \n",
       "5   What happens when the platform needed to make ...      1.0   \n",
       "6   When you’re college professor always said “don...      1.0   \n",
       "7   With 3 degrees in electrical engineering from ...      1.0   \n",
       "8   President & CEO, Levrx Technology; Co-CEO, Agr...      1.0   \n",
       "9                                                 TBD      0.0   \n",
       "10                                                TBD      0.0   \n",
       "11                                                TBD      0.0   \n",
       "12                                                TBD      0.0   \n",
       "13                                                TBD      0.0   \n",
       "14                                                TBD      0.0   \n",
       "\n",
       "                Location      Type  \n",
       "0   ../sessions/session1  Markdown  \n",
       "1   ../sessions/session2  Markdown  \n",
       "2   ../sessions/session3  Markdown  \n",
       "3   ../sessions/session4  Markdown  \n",
       "4   ../sessions/session5  Markdown  \n",
       "5   ../sessions/session6  Markdown  \n",
       "6   ../sessions/session7  Markdown  \n",
       "7   ../sessions/session8  Markdown  \n",
       "8   ../sessions/session9  Markdown  \n",
       "9                    NaN       NaN  \n",
       "10                   NaN       NaN  \n",
       "11                   NaN       NaN  \n",
       "12                   NaN       NaN  \n",
       "13                   NaN       NaN  \n",
       "14                   NaN       NaN  "
      ]
     },
     "execution_count": 7,
     "metadata": {},
     "output_type": "execute_result"
    }
   ],
   "source": [
    "schedule"
   ]
  },
  {
   "cell_type": "code",
   "execution_count": 8,
   "metadata": {},
   "outputs": [
    {
     "data": {
      "text/plain": [
       "'https://github.com/SeverinoCenter/impactful_innovators_website'"
      ]
     },
     "execution_count": 8,
     "metadata": {},
     "output_type": "execute_result"
    }
   ],
   "source": [
    "config['repository']['url']"
   ]
  },
  {
   "cell_type": "code",
   "execution_count": 9,
   "metadata": {},
   "outputs": [
    {
     "ename": "TypeError",
     "evalue": "unsupported operand type(s) for +: 'float' and 'str'",
     "output_type": "error",
     "traceback": [
      "\u001b[0;31m---------------------------------------------------------------------------\u001b[0m",
      "\u001b[0;31mTypeError\u001b[0m                                 Traceback (most recent call last)",
      "\u001b[0;32m<ipython-input-9-e1491ed6f536>\u001b[0m in \u001b[0;36m<module>\u001b[0;34m\u001b[0m\n\u001b[0;32m----> 1\u001b[0;31m \u001b[0mschedule\u001b[0m\u001b[0;34m=\u001b[0m\u001b[0mbd\u001b[0m\u001b[0;34m.\u001b[0m\u001b[0mlink_generator\u001b[0m\u001b[0;34m(\u001b[0m\u001b[0mschedule\u001b[0m\u001b[0;34m,\u001b[0m \u001b[0;34m'Summary'\u001b[0m\u001b[0;34m,\u001b[0m\u001b[0mconfig\u001b[0m\u001b[0;34m[\u001b[0m\u001b[0;34m'repository'\u001b[0m\u001b[0;34m]\u001b[0m\u001b[0;34m[\u001b[0m\u001b[0;34m'url'\u001b[0m\u001b[0;34m]\u001b[0m\u001b[0;34m,\u001b[0m\u001b[0;34m'Link'\u001b[0m\u001b[0;34m)\u001b[0m\u001b[0;34m\u001b[0m\u001b[0;34m\u001b[0m\u001b[0m\n\u001b[0m",
      "\u001b[0;32m~/Box/RPI-Severino Center/impactful_innovators/impactful_innovators_website/scripts/builder.py\u001b[0m in \u001b[0;36mlink_generator\u001b[0;34m(df, target, repo_url, link_name)\u001b[0m\n\u001b[1;32m    125\u001b[0m             \u001b[0mdf\u001b[0m\u001b[0;34m.\u001b[0m\u001b[0mloc\u001b[0m\u001b[0;34m[\u001b[0m\u001b[0mindex\u001b[0m\u001b[0;34m,\u001b[0m\u001b[0mtarget\u001b[0m\u001b[0;34m]\u001b[0m\u001b[0;34m=\u001b[0m\u001b[0mrow\u001b[0m\u001b[0;34m[\u001b[0m\u001b[0mtarget\u001b[0m\u001b[0;34m]\u001b[0m\u001b[0;34m+\u001b[0m\u001b[0;34m\" [\"\u001b[0m\u001b[0;34m+\u001b[0m\u001b[0mlink_name\u001b[0m\u001b[0;34m+\u001b[0m\u001b[0;34m\"](\"\u001b[0m\u001b[0;34m+\u001b[0m\u001b[0mrepo_url\u001b[0m\u001b[0;34m+\u001b[0m\u001b[0;34m\"/raw/master/\"\u001b[0m\u001b[0;34m+\u001b[0m\u001b[0mrow\u001b[0m\u001b[0;34m[\u001b[0m\u001b[0;34m'Location'\u001b[0m\u001b[0;34m]\u001b[0m\u001b[0;34m+\u001b[0m\u001b[0;34m\")\"\u001b[0m\u001b[0;34m\u001b[0m\u001b[0;34m\u001b[0m\u001b[0m\n\u001b[1;32m    126\u001b[0m         \u001b[0;32melif\u001b[0m \u001b[0mrow\u001b[0m\u001b[0;34m[\u001b[0m\u001b[0;34m'Type'\u001b[0m\u001b[0;34m]\u001b[0m \u001b[0;32min\u001b[0m \u001b[0;34m[\u001b[0m\u001b[0;34m'Notebook'\u001b[0m\u001b[0;34m,\u001b[0m \u001b[0;34m'Markdown'\u001b[0m\u001b[0;34m]\u001b[0m\u001b[0;34m:\u001b[0m\u001b[0;34m\u001b[0m\u001b[0;34m\u001b[0m\u001b[0m\n\u001b[0;32m--> 127\u001b[0;31m             \u001b[0mdf\u001b[0m\u001b[0;34m.\u001b[0m\u001b[0mloc\u001b[0m\u001b[0;34m[\u001b[0m\u001b[0mindex\u001b[0m\u001b[0;34m,\u001b[0m\u001b[0mtarget\u001b[0m\u001b[0;34m]\u001b[0m\u001b[0;34m=\u001b[0m\u001b[0mrow\u001b[0m\u001b[0;34m[\u001b[0m\u001b[0mtarget\u001b[0m\u001b[0;34m]\u001b[0m\u001b[0;34m+\u001b[0m\u001b[0;34m\" [\"\u001b[0m\u001b[0;34m+\u001b[0m\u001b[0mlink_name\u001b[0m\u001b[0;34m+\u001b[0m\u001b[0;34m\"](../\"\u001b[0m\u001b[0;34m+\u001b[0m\u001b[0mrow\u001b[0m\u001b[0;34m[\u001b[0m\u001b[0;34m'Location'\u001b[0m\u001b[0;34m]\u001b[0m\u001b[0;34m+\u001b[0m\u001b[0;34m\")\"\u001b[0m\u001b[0;34m\u001b[0m\u001b[0;34m\u001b[0m\u001b[0m\n\u001b[0m\u001b[1;32m    128\u001b[0m         \u001b[0;31m#elif row['Type']=='Youtube'\u001b[0m\u001b[0;34m\u001b[0m\u001b[0;34m\u001b[0m\u001b[0;34m\u001b[0m\u001b[0m\n\u001b[1;32m    129\u001b[0m     \u001b[0mdf\u001b[0m\u001b[0;34m.\u001b[0m\u001b[0mdrop\u001b[0m\u001b[0;34m(\u001b[0m\u001b[0mcolumns\u001b[0m\u001b[0;34m=\u001b[0m\u001b[0;34m[\u001b[0m\u001b[0;34m'Location'\u001b[0m\u001b[0;34m]\u001b[0m\u001b[0;34m,\u001b[0m\u001b[0minplace\u001b[0m\u001b[0;34m=\u001b[0m\u001b[0;32mTrue\u001b[0m\u001b[0;34m)\u001b[0m\u001b[0;34m\u001b[0m\u001b[0;34m\u001b[0m\u001b[0m\n",
      "\u001b[0;31mTypeError\u001b[0m: unsupported operand type(s) for +: 'float' and 'str'"
     ]
    }
   ],
   "source": [
    "#schedule=bd.link_generator(schedule, 'Summary',config['repository']['url'],'Link')"
   ]
  },
  {
   "cell_type": "code",
   "execution_count": 10,
   "metadata": {},
   "outputs": [],
   "source": [
    "\n",
    "#schedule=bd.link_generator(schedule, 'Summary',config['repository']['url'],'Link')\n",
    "content['Assignment']=bd.link_generator(content['Assignment'], 'Assignment',config['repository']['url'],'Starter')\n",
    "content['Before Class']=bd.link_generator(content['Before Class'], 'Content',config['repository']['url'],'Link')\n",
    "content['In Class']=bd.link_generator(content['In Class'], 'Content',config['repository']['url'],'Link')"
   ]
  },
  {
   "cell_type": "code",
   "execution_count": 11,
   "metadata": {},
   "outputs": [
    {
     "name": "stdout",
     "output_type": "stream",
     "text": [
      "Converting datetime to \n",
      "Outputting file: ../site/content/in_class.md\n"
     ]
    }
   ],
   "source": [
    "#Get the in class activities and prepare and output a markdown file. \n",
    "schedule_ic=schedule.merge(content['In Class'], left_on='Session', right_on='Session', how='left')\n",
    "schedule_ic= schedule_ic.loc[schedule_ic['Content'].notnull(),['Week', 'Session', 'Date', 'Content']]\n",
    "schedule_ic=bd.pandas_to_md(schedule_ic, content_path / 'in_class.md', 'In Class', \\\n",
    "        include = ['Week', 'Session', 'Date', 'Content'], header=cf['in_class_header'])"
   ]
  },
  {
   "cell_type": "code",
   "execution_count": 12,
   "metadata": {},
   "outputs": [
    {
     "name": "stdout",
     "output_type": "stream",
     "text": [
      "Converting datetime to \n",
      "Outputting file: ../site/content/preparation.md\n"
     ]
    }
   ],
   "source": [
    "#Get the before class activities and prepare and output a markdown file. \n",
    "schedule_bc=schedule.merge(content['Before Class'], left_on='Session', right_on='Session', how='left')\n",
    "schedule_bc= schedule_bc.loc[schedule_bc['Content'].notnull(),['Week', 'Session', 'Date', 'Content']]\n",
    "schedule_bc=bd.pandas_to_md(schedule_bc, content_path / 'preparation.md', 'Before Class', \\\n",
    "                             include = ['Week', 'Session', 'Date', 'Content'], header=cf['bc_class_header'])\n",
    "schedule=schedule.merge(content['Assignment'], left_on='Session', right_on='Session', how='left')\n",
    "\n"
   ]
  },
  {
   "cell_type": "code",
   "execution_count": 13,
   "metadata": {},
   "outputs": [
    {
     "name": "stdout",
     "output_type": "stream",
     "text": [
      "Converting datetime to \n",
      "Converting datetime to \n",
      "Outputting file: ../site/content/assignments.md\n"
     ]
    }
   ],
   "source": [
    "#Get the assignments and prepare and output a markdown file. \n",
    "assignments_new = schedule.loc[schedule['Assignment'].notnull(),['Week', 'Session', 'Date', 'Assignment', 'Due']]\n",
    "assignments_new=bd.pandas_to_md(assignments_new, content_path / 'assignments.md', 'Assignments', \\\n",
    "                             include = ['Week', 'Session', 'Date', 'Assignment', 'Due'],header=cf['assignments_header'])"
   ]
  },
  {
   "cell_type": "code",
   "execution_count": 14,
   "metadata": {},
   "outputs": [
    {
     "name": "stdout",
     "output_type": "stream",
     "text": [
      "Converting datetime to \n",
      "Converting datetime to \n",
      "Outputting file: ../site/content/schedule.md\n"
     ]
    }
   ],
   "source": [
    "#Output the schedule to markdown.\n",
    "schedule=bd.pandas_to_md(schedule, content_path / 'schedule.md', 'Schedule', \\\n",
    "                             include = ['Week', 'Session', 'Date', 'Day', 'Topic', 'Summary', 'Assignment', 'Due'],header=cf['schedule_header'])"
   ]
  },
  {
   "cell_type": "code",
   "execution_count": 15,
   "metadata": {},
   "outputs": [
    {
     "name": "stdout",
     "output_type": "stream",
     "text": [
      "Outputting  session1.md\n",
      "Outputting  session2.md\n",
      "Outputting  session3.md\n",
      "Outputting  session4.md\n",
      "Outputting  session5.md\n",
      "Outputting  session6.md\n",
      "Outputting  session7.md\n",
      "Outputting  session8.md\n",
      "Outputting  session9.md\n"
     ]
    }
   ],
   "source": [
    "#Generate Session Files\n",
    "toc=bd.generate_sessions(config, toc, 2, schedule, class_path / 'sessions',content, ['Before Class', 'In Class', 'Assignment'])"
   ]
  },
  {
   "cell_type": "code",
   "execution_count": 16,
   "metadata": {},
   "outputs": [
    {
     "name": "stdout",
     "output_type": "stream",
     "text": [
      "Updating the file: ../site/_toc.yml\n"
     ]
    }
   ],
   "source": [
    "#Update the sessions to the yaml file.  Other updates to notebooks need to be done manually.\n",
    "bd.update_yaml_file(class_path / '_toc.yml', toc)"
   ]
  },
  {
   "cell_type": "code",
   "execution_count": 17,
   "metadata": {},
   "outputs": [],
   "source": [
    "#TBD Make it so that notebooks will show up in _toc.yml. "
   ]
  },
  {
   "cell_type": "code",
   "execution_count": null,
   "metadata": {},
   "outputs": [],
   "source": []
  }
 ],
 "metadata": {
  "kernelspec": {
   "display_name": "Python 3",
   "language": "python",
   "name": "python3"
  },
  "language_info": {
   "codemirror_mode": {
    "name": "ipython",
    "version": 3
   },
   "file_extension": ".py",
   "mimetype": "text/x-python",
   "name": "python",
   "nbconvert_exporter": "python",
   "pygments_lexer": "ipython3",
   "version": "3.7.6"
  }
 },
 "nbformat": 4,
 "nbformat_minor": 4
}
